{
 "cells": [
  {
   "cell_type": "code",
   "execution_count": 1,
   "metadata": {
    "collapsed": true
   },
   "outputs": [
    {
     "name": "stdout",
     "output_type": "stream",
     "text": [
      "file D:/NER/CRF/datasets/datasets/train.txt, tokens 203621\n"
     ]
    },
    {
     "data": {
      "text/plain": "            Sentence # Word  Pos Chunk     Tag\n0           Sentence:0    2  NNP  B-NP   B-ORG\n1           Sentence:0    2  VBZ  B-VP       O\n2           Sentence:0    2   JJ  B-NP  B-MISC\n3           Sentence:0    2   NN  I-NP       O\n4           Sentence:0    2   TO  B-VP       O\n...                ...  ...  ...   ...     ...\n203616  Sentence:14040    2   CD  I-NP       O\n203617  Sentence:14041    2   NN  B-NP   B-ORG\n203618  Sentence:14041    2   CD  I-NP       O\n203619  Sentence:14041    2  NNP  I-NP   B-ORG\n203620  Sentence:14041    2   CD  I-NP       O\n\n[203621 rows x 5 columns]",
      "text/html": "<div>\n<style scoped>\n    .dataframe tbody tr th:only-of-type {\n        vertical-align: middle;\n    }\n\n    .dataframe tbody tr th {\n        vertical-align: top;\n    }\n\n    .dataframe thead th {\n        text-align: right;\n    }\n</style>\n<table border=\"1\" class=\"dataframe\">\n  <thead>\n    <tr style=\"text-align: right;\">\n      <th></th>\n      <th>Sentence #</th>\n      <th>Word</th>\n      <th>Pos</th>\n      <th>Chunk</th>\n      <th>Tag</th>\n    </tr>\n  </thead>\n  <tbody>\n    <tr>\n      <th>0</th>\n      <td>Sentence:0</td>\n      <td>2</td>\n      <td>NNP</td>\n      <td>B-NP</td>\n      <td>B-ORG</td>\n    </tr>\n    <tr>\n      <th>1</th>\n      <td>Sentence:0</td>\n      <td>2</td>\n      <td>VBZ</td>\n      <td>B-VP</td>\n      <td>O</td>\n    </tr>\n    <tr>\n      <th>2</th>\n      <td>Sentence:0</td>\n      <td>2</td>\n      <td>JJ</td>\n      <td>B-NP</td>\n      <td>B-MISC</td>\n    </tr>\n    <tr>\n      <th>3</th>\n      <td>Sentence:0</td>\n      <td>2</td>\n      <td>NN</td>\n      <td>I-NP</td>\n      <td>O</td>\n    </tr>\n    <tr>\n      <th>4</th>\n      <td>Sentence:0</td>\n      <td>2</td>\n      <td>TO</td>\n      <td>B-VP</td>\n      <td>O</td>\n    </tr>\n    <tr>\n      <th>...</th>\n      <td>...</td>\n      <td>...</td>\n      <td>...</td>\n      <td>...</td>\n      <td>...</td>\n    </tr>\n    <tr>\n      <th>203616</th>\n      <td>Sentence:14040</td>\n      <td>2</td>\n      <td>CD</td>\n      <td>I-NP</td>\n      <td>O</td>\n    </tr>\n    <tr>\n      <th>203617</th>\n      <td>Sentence:14041</td>\n      <td>2</td>\n      <td>NN</td>\n      <td>B-NP</td>\n      <td>B-ORG</td>\n    </tr>\n    <tr>\n      <th>203618</th>\n      <td>Sentence:14041</td>\n      <td>2</td>\n      <td>CD</td>\n      <td>I-NP</td>\n      <td>O</td>\n    </tr>\n    <tr>\n      <th>203619</th>\n      <td>Sentence:14041</td>\n      <td>2</td>\n      <td>NNP</td>\n      <td>I-NP</td>\n      <td>B-ORG</td>\n    </tr>\n    <tr>\n      <th>203620</th>\n      <td>Sentence:14041</td>\n      <td>2</td>\n      <td>CD</td>\n      <td>I-NP</td>\n      <td>O</td>\n    </tr>\n  </tbody>\n</table>\n<p>203621 rows × 5 columns</p>\n</div>"
     },
     "execution_count": 1,
     "metadata": {},
     "output_type": "execute_result"
    }
   ],
   "source": [
    "import warnings\n",
    "warnings.filterwarnings('ignore')\n",
    "import os\n",
    "import pandas as pd\n",
    "\n",
    "def read_from_file(file_path:str):\n",
    "    words, poss, chunks, tags = [], [], [], []\n",
    "    sentences_label = ['Sentence:0']\n",
    "    sent_id = 1\n",
    "\n",
    "    for line in open(file_path):\n",
    "        if line in ['\\n', '\\r\\n']:\n",
    "            if len(sentences_label) != 1:\n",
    "                sentences_label.pop()\n",
    "                sentences_label.append('Sentence:{}'.format(sent_id))\n",
    "            sent_id += 1\n",
    "\n",
    "        elif line.startswith('-DOCSTART-'):\n",
    "            sent_id = sent_id - 1 if len(sentences_label) != 1 else sent_id\n",
    "\n",
    "        else:\n",
    "            word, pos, chunk, tag = line.strip().split()\n",
    "            assert (len(line.split()) == 4)\n",
    "            words.append(word)\n",
    "            poss.append(pos)\n",
    "            chunks.append(chunk)\n",
    "            tags.append(tag)\n",
    "            sentences_label.append(None)\n",
    "    sentences_label.pop()\n",
    "    assert (len(sentences_label)) == len(tags)\n",
    "\n",
    "    dataset = {'Sentence #': sentences_label,\n",
    "               'Word': word,\n",
    "               'Pos': poss,\n",
    "               'Chunk': chunks,\n",
    "               'Tag': tags\n",
    "               }\n",
    "    data = pd.DataFrame(dataset, columns=['Sentence #', 'Word', 'Pos', 'Chunk', 'Tag'])\n",
    "    data = data.fillna(method='ffill')\n",
    "    print('file {}, tokens {}'.format(file_path, len(data['Word'])))\n",
    "    return data\n",
    "\n",
    "\n",
    "data = read_from_file('D:/NER/CRF/datasets/datasets/train.txt')\n",
    "data"
   ]
  },
  {
   "cell_type": "code",
   "execution_count": 1,
   "outputs": [
    {
     "name": "stderr",
     "output_type": "stream",
     "text": [
      "F:\\Anaconda\\envs\\NER\\lib\\site-packages\\sklearn\\externals\\joblib\\__init__.py:15: DeprecationWarning: sklearn.externals.joblib is deprecated in 0.21 and will be removed in 0.23. Please import this functionality directly from joblib, which can be installed with: pip install joblib. If this warning is raised when loading pickled models, you may need to re-serialize those models with scikit-learn 0.21+.\n",
      "  warnings.warn(msg, category=DeprecationWarning)\n"
     ]
    },
    {
     "name": "stdout",
     "output_type": "stream",
     "text": [
      "0                 EU\n",
      "1            rejects\n",
      "2             German\n",
      "3               call\n",
      "4                 to\n",
      "5            boycott\n",
      "6            British\n",
      "7               lamb\n",
      "8                  .\n",
      "9              Peter\n",
      "10         Blackburn\n",
      "11          BRUSSELS\n",
      "12        1996-08-22\n",
      "13               The\n",
      "14          European\n",
      "15        Commission\n",
      "16              said\n",
      "17                on\n",
      "18          Thursday\n",
      "19                it\n",
      "20         disagreed\n",
      "21              with\n",
      "22            German\n",
      "23            advice\n",
      "24                to\n",
      "25         consumers\n",
      "26                to\n",
      "27              shun\n",
      "28           British\n",
      "29              lamb\n",
      "             ...    \n",
      "203591            77\n",
      "203592             .\n",
      "203593        SOCCER\n",
      "203594             -\n",
      "203595       ENGLISH\n",
      "203596        SOCCER\n",
      "203597       RESULTS\n",
      "203598             .\n",
      "203599        LONDON\n",
      "203600    1996-08-30\n",
      "203601       Results\n",
      "203602            of\n",
      "203603       English\n",
      "203604        league\n",
      "203605       matches\n",
      "203606            on\n",
      "203607        Friday\n",
      "203608             :\n",
      "203609      Division\n",
      "203610           two\n",
      "203611      Plymouth\n",
      "203612             2\n",
      "203613       Preston\n",
      "203614             1\n",
      "203615      Division\n",
      "203616         three\n",
      "203617       Swansea\n",
      "203618             1\n",
      "203619       Lincoln\n",
      "203620             2\n",
      "Name: Word, Length: 203621, dtype: object\n",
      "file datasets/datasets/train.txt, tokens 203621\n",
      "0            SOCCER\n",
      "1                 -\n",
      "2             JAPAN\n",
      "3               GET\n",
      "4             LUCKY\n",
      "5               WIN\n",
      "6                 ,\n",
      "7             CHINA\n",
      "8                IN\n",
      "9          SURPRISE\n",
      "10           DEFEAT\n",
      "11                .\n",
      "12            Nadim\n",
      "13            Ladki\n",
      "14           AL-AIN\n",
      "15                ,\n",
      "16           United\n",
      "17             Arab\n",
      "18         Emirates\n",
      "19       1996-12-06\n",
      "20            Japan\n",
      "21            began\n",
      "22              the\n",
      "23          defence\n",
      "24               of\n",
      "25            their\n",
      "26            Asian\n",
      "27              Cup\n",
      "28            title\n",
      "29             with\n",
      "            ...    \n",
      "46405         debut\n",
      "46406         until\n",
      "46407           the\n",
      "46408           age\n",
      "46409            of\n",
      "46410            30\n",
      "46411           but\n",
      "46412    eventually\n",
      "46413           won\n",
      "46414            35\n",
      "46415          caps\n",
      "46416           and\n",
      "46417           was\n",
      "46418             a\n",
      "46419           key\n",
      "46420        member\n",
      "46421            of\n",
      "46422           the\n",
      "46423          1966\n",
      "46424         World\n",
      "46425           Cup\n",
      "46426       winning\n",
      "46427          team\n",
      "46428          with\n",
      "46429           his\n",
      "46430       younger\n",
      "46431       brother\n",
      "46432             ,\n",
      "46433         Bobby\n",
      "46434             .\n",
      "Name: Word, Length: 46435, dtype: object\n",
      "file datasets/datasets/test.txt, tokens 46435\n",
      "14041 sentences in the dataset\n",
      "3453 sentences in the dataset\n"
     ]
    }
   ],
   "source": [
    "import warnings\n",
    "warnings.filterwarnings('ignore')\n",
    "import os\n",
    "import pandas as pd\n",
    "from utils import *\n",
    "from sklearn_crfsuite import CRF\n",
    "from sklearn.externals import joblib\n",
    "from sklearn.model_selection import cross_val_predict\n",
    "from sklearn_crfsuite.metrics import flat_classification_report\n",
    "import eli5\n",
    "\n",
    "ner_dataset_dir = 'datasets/datasets/train.txt'\n",
    "data = read_from_file(ner_dataset_dir)\n",
    "test_dir = 'datasets/datasets/test.txt'\n",
    "test_data = read_from_file(test_dir)\n",
    "\n",
    "getter = SentenceGetter(data)\n",
    "sentences = getter.sentences\n",
    "X = [sent2features(s) for s in sentences]\n",
    "Y = [sent2labels(s) for s in sentences]\n",
    "\n",
    "test_getter = SentenceGetter(test_data)\n",
    "test_sentences = test_getter.sentences\n",
    "test_X = [sent2features(s) for s in test_sentences]\n",
    "test_Y = [sent2labels(s) for s in test_sentences]"
   ],
   "metadata": {
    "collapsed": false,
    "pycharm": {
     "name": "#%%\n"
    }
   }
  },
  {
   "cell_type": "code",
   "execution_count": 2,
   "outputs": [
    {
     "name": "stdout",
     "output_type": "stream",
     "text": [
      "              precision    recall  f1-score   support\n",
      "\n",
      "       B-LOC       0.69      0.68      0.69      1668\n",
      "      B-MISC       0.76      0.56      0.65       702\n",
      "       B-ORG       0.66      0.59      0.62      1661\n",
      "       B-PER       0.70      0.77      0.74      1617\n",
      "       I-LOC       0.80      0.50      0.62       257\n",
      "      I-MISC       0.55      0.55      0.55       216\n",
      "       I-ORG       0.58      0.64      0.61       835\n",
      "       I-PER       0.77      0.91      0.84      1156\n",
      "           O       0.98      0.98      0.98     38323\n",
      "\n",
      "    accuracy                           0.93     46435\n",
      "   macro avg       0.72      0.69      0.70     46435\n",
      "weighted avg       0.93      0.93      0.93     46435\n",
      "\n"
     ]
    },
    {
     "data": {
      "text/plain": "<IPython.core.display.HTML object>",
      "text/html": "\n    <style>\n    table.eli5-weights tr:hover {\n        filter: brightness(85%);\n    }\n</style>\n\n\n\n    \n\n    \n\n    \n        \n\n\n<table class=\"eli5-transition-features\" style=\"margin-bottom: 0.5em;\">\n    <thead>\n        <tr>\n            <td>From \\ To</td>\n            \n                <th>O</th>\n            \n                <th>B-LOC</th>\n            \n                <th>I-LOC</th>\n            \n                <th>B-MISC</th>\n            \n                <th>I-MISC</th>\n            \n                <th>B-ORG</th>\n            \n                <th>I-ORG</th>\n            \n                <th>B-PER</th>\n            \n                <th>I-PER</th>\n            \n        </tr>\n    </thead>\n    <tbody>\n        \n            \n                <tr>\n                    <th>O</th>\n                    \n                        <td style=\"background-color: hsl(120, 100.00%, 81.51%)\" title=\"O &rArr; O\">\n                            5.741\n                        </td>\n                    \n                        <td style=\"background-color: hsl(120, 100.00%, 87.28%)\" title=\"O &rArr; B-LOC\">\n                            3.364\n                        </td>\n                    \n                        <td style=\"background-color: hsl(0, 100.00%, 98.67%)\" title=\"O &rArr; I-LOC\">\n                            -0.134\n                        </td>\n                    \n                        <td style=\"background-color: hsl(120, 100.00%, 87.14%)\" title=\"O &rArr; B-MISC\">\n                            3.418\n                        </td>\n                    \n                        <td style=\"background-color: hsl(0, 100.00%, 100.00%)\" title=\"O &rArr; I-MISC\">\n                            0.0\n                        </td>\n                    \n                        <td style=\"background-color: hsl(120, 100.00%, 86.32%)\" title=\"O &rArr; B-ORG\">\n                            3.733\n                        </td>\n                    \n                        <td style=\"background-color: hsl(0, 100.00%, 95.66%)\" title=\"O &rArr; I-ORG\">\n                            -0.723\n                        </td>\n                    \n                        <td style=\"background-color: hsl(120, 100.00%, 86.10%)\" title=\"O &rArr; B-PER\">\n                            3.82\n                        </td>\n                    \n                        <td style=\"background-color: hsl(0, 100.00%, 97.06%)\" title=\"O &rArr; I-PER\">\n                            -0.415\n                        </td>\n                    \n                </tr>\n            \n                <tr>\n                    <th>B-LOC</th>\n                    \n                        <td style=\"background-color: hsl(120, 100.00%, 94.39%)\" title=\"B-LOC &rArr; O\">\n                            1.045\n                        </td>\n                    \n                        <td style=\"background-color: hsl(0, 100.00%, 97.81%)\" title=\"B-LOC &rArr; B-LOC\">\n                            -0.273\n                        </td>\n                    \n                        <td style=\"background-color: hsl(120, 100.00%, 80.63%)\" title=\"B-LOC &rArr; I-LOC\">\n                            6.137\n                        </td>\n                    \n                        <td style=\"background-color: hsl(0, 100.00%, 100.00%)\" title=\"B-LOC &rArr; B-MISC\">\n                            0.0\n                        </td>\n                    \n                        <td style=\"background-color: hsl(0, 100.00%, 100.00%)\" title=\"B-LOC &rArr; I-MISC\">\n                            0.0\n                        </td>\n                    \n                        <td style=\"background-color: hsl(0, 100.00%, 100.00%)\" title=\"B-LOC &rArr; B-ORG\">\n                            0.0\n                        </td>\n                    \n                        <td style=\"background-color: hsl(0, 100.00%, 100.00%)\" title=\"B-LOC &rArr; I-ORG\">\n                            0.0\n                        </td>\n                    \n                        <td style=\"background-color: hsl(0, 100.00%, 90.49%)\" title=\"B-LOC &rArr; B-PER\">\n                            -2.22\n                        </td>\n                    \n                        <td style=\"background-color: hsl(0, 100.00%, 97.42%)\" title=\"B-LOC &rArr; I-PER\">\n                            -0.344\n                        </td>\n                    \n                </tr>\n            \n                <tr>\n                    <th>I-LOC</th>\n                    \n                        <td style=\"background-color: hsl(120, 100.00%, 99.07%)\" title=\"I-LOC &rArr; O\">\n                            0.08\n                        </td>\n                    \n                        <td style=\"background-color: hsl(0, 100.00%, 100.00%)\" title=\"I-LOC &rArr; B-LOC\">\n                            0.0\n                        </td>\n                    \n                        <td style=\"background-color: hsl(120, 100.00%, 82.91%)\" title=\"I-LOC &rArr; I-LOC\">\n                            5.13\n                        </td>\n                    \n                        <td style=\"background-color: hsl(0, 100.00%, 100.00%)\" title=\"I-LOC &rArr; B-MISC\">\n                            0.0\n                        </td>\n                    \n                        <td style=\"background-color: hsl(0, 100.00%, 100.00%)\" title=\"I-LOC &rArr; I-MISC\">\n                            0.0\n                        </td>\n                    \n                        <td style=\"background-color: hsl(0, 100.00%, 100.00%)\" title=\"I-LOC &rArr; B-ORG\">\n                            0.0\n                        </td>\n                    \n                        <td style=\"background-color: hsl(0, 100.00%, 100.00%)\" title=\"I-LOC &rArr; I-ORG\">\n                            0.0\n                        </td>\n                    \n                        <td style=\"background-color: hsl(0, 100.00%, 92.99%)\" title=\"I-LOC &rArr; B-PER\">\n                            -1.437\n                        </td>\n                    \n                        <td style=\"background-color: hsl(0, 100.00%, 100.00%)\" title=\"I-LOC &rArr; I-PER\">\n                            0.0\n                        </td>\n                    \n                </tr>\n            \n                <tr>\n                    <th>B-MISC</th>\n                    \n                        <td style=\"background-color: hsl(120, 100.00%, 94.41%)\" title=\"B-MISC &rArr; O\">\n                            1.039\n                        </td>\n                    \n                        <td style=\"background-color: hsl(0, 100.00%, 95.19%)\" title=\"B-MISC &rArr; B-LOC\">\n                            -0.839\n                        </td>\n                    \n                        <td style=\"background-color: hsl(0, 100.00%, 100.00%)\" title=\"B-MISC &rArr; I-LOC\">\n                            0.0\n                        </td>\n                    \n                        <td style=\"background-color: hsl(0, 100.00%, 96.89%)\" title=\"B-MISC &rArr; B-MISC\">\n                            -0.449\n                        </td>\n                    \n                        <td style=\"background-color: hsl(120, 100.00%, 81.54%)\" title=\"B-MISC &rArr; I-MISC\">\n                            5.727\n                        </td>\n                    \n                        <td style=\"background-color: hsl(0, 100.00%, 100.00%)\" title=\"B-MISC &rArr; B-ORG\">\n                            0.0\n                        </td>\n                    \n                        <td style=\"background-color: hsl(0, 100.00%, 100.00%)\" title=\"B-MISC &rArr; I-ORG\">\n                            0.0\n                        </td>\n                    \n                        <td style=\"background-color: hsl(0, 100.00%, 97.71%)\" title=\"B-MISC &rArr; B-PER\">\n                            -0.291\n                        </td>\n                    \n                        <td style=\"background-color: hsl(0, 100.00%, 97.35%)\" title=\"B-MISC &rArr; I-PER\">\n                            -0.359\n                        </td>\n                    \n                </tr>\n            \n                <tr>\n                    <th>I-MISC</th>\n                    \n                        <td style=\"background-color: hsl(120, 100.00%, 98.38%)\" title=\"I-MISC &rArr; O\">\n                            0.176\n                        </td>\n                    \n                        <td style=\"background-color: hsl(0, 100.00%, 97.57%)\" title=\"I-MISC &rArr; B-LOC\">\n                            -0.316\n                        </td>\n                    \n                        <td style=\"background-color: hsl(0, 100.00%, 100.00%)\" title=\"I-MISC &rArr; I-LOC\">\n                            0.0\n                        </td>\n                    \n                        <td style=\"background-color: hsl(0, 100.00%, 100.00%)\" title=\"I-MISC &rArr; B-MISC\">\n                            0.0\n                        </td>\n                    \n                        <td style=\"background-color: hsl(120, 100.00%, 82.24%)\" title=\"I-MISC &rArr; I-MISC\">\n                            5.419\n                        </td>\n                    \n                        <td style=\"background-color: hsl(0, 100.00%, 100.00%)\" title=\"I-MISC &rArr; B-ORG\">\n                            0.0\n                        </td>\n                    \n                        <td style=\"background-color: hsl(0, 100.00%, 100.00%)\" title=\"I-MISC &rArr; I-ORG\">\n                            0.0\n                        </td>\n                    \n                        <td style=\"background-color: hsl(0, 100.00%, 94.86%)\" title=\"I-MISC &rArr; B-PER\">\n                            -0.923\n                        </td>\n                    \n                        <td style=\"background-color: hsl(0, 100.00%, 99.11%)\" title=\"I-MISC &rArr; I-PER\">\n                            -0.075\n                        </td>\n                    \n                </tr>\n            \n                <tr>\n                    <th>B-ORG</th>\n                    \n                        <td style=\"background-color: hsl(120, 100.00%, 94.35%)\" title=\"B-ORG &rArr; O\">\n                            1.057\n                        </td>\n                    \n                        <td style=\"background-color: hsl(0, 100.00%, 95.25%)\" title=\"B-ORG &rArr; B-LOC\">\n                            -0.824\n                        </td>\n                    \n                        <td style=\"background-color: hsl(0, 100.00%, 100.00%)\" title=\"B-ORG &rArr; I-LOC\">\n                            0.0\n                        </td>\n                    \n                        <td style=\"background-color: hsl(0, 100.00%, 97.42%)\" title=\"B-ORG &rArr; B-MISC\">\n                            -0.345\n                        </td>\n                    \n                        <td style=\"background-color: hsl(0, 100.00%, 100.00%)\" title=\"B-ORG &rArr; I-MISC\">\n                            0.0\n                        </td>\n                    \n                        <td style=\"background-color: hsl(0, 100.00%, 100.00%)\" title=\"B-ORG &rArr; B-ORG\">\n                            0.0\n                        </td>\n                    \n                        <td style=\"background-color: hsl(120, 100.00%, 80.00%)\" title=\"B-ORG &rArr; I-ORG\">\n                            6.423\n                        </td>\n                    \n                        <td style=\"background-color: hsl(0, 100.00%, 92.63%)\" title=\"B-ORG &rArr; B-PER\">\n                            -1.543\n                        </td>\n                    \n                        <td style=\"background-color: hsl(0, 100.00%, 98.10%)\" title=\"B-ORG &rArr; I-PER\">\n                            -0.222\n                        </td>\n                    \n                </tr>\n            \n                <tr>\n                    <th>I-ORG</th>\n                    \n                        <td style=\"background-color: hsl(120, 100.00%, 98.60%)\" title=\"I-ORG &rArr; O\">\n                            0.144\n                        </td>\n                    \n                        <td style=\"background-color: hsl(0, 100.00%, 93.17%)\" title=\"I-ORG &rArr; B-LOC\">\n                            -1.383\n                        </td>\n                    \n                        <td style=\"background-color: hsl(0, 100.00%, 100.00%)\" title=\"I-ORG &rArr; I-LOC\">\n                            0.0\n                        </td>\n                    \n                        <td style=\"background-color: hsl(0, 100.00%, 95.76%)\" title=\"I-ORG &rArr; B-MISC\">\n                            -0.701\n                        </td>\n                    \n                        <td style=\"background-color: hsl(0, 100.00%, 100.00%)\" title=\"I-ORG &rArr; I-MISC\">\n                            0.0\n                        </td>\n                    \n                        <td style=\"background-color: hsl(0, 100.00%, 96.64%)\" title=\"I-ORG &rArr; B-ORG\">\n                            -0.502\n                        </td>\n                    \n                        <td style=\"background-color: hsl(120, 100.00%, 82.74%)\" title=\"I-ORG &rArr; I-ORG\">\n                            5.206\n                        </td>\n                    \n                        <td style=\"background-color: hsl(0, 100.00%, 90.74%)\" title=\"I-ORG &rArr; B-PER\">\n                            -2.137\n                        </td>\n                    \n                        <td style=\"background-color: hsl(0, 100.00%, 96.86%)\" title=\"I-ORG &rArr; I-PER\">\n                            -0.456\n                        </td>\n                    \n                </tr>\n            \n                <tr>\n                    <th>B-PER</th>\n                    \n                        <td style=\"background-color: hsl(120, 100.00%, 96.16%)\" title=\"B-PER &rArr; O\">\n                            0.608\n                        </td>\n                    \n                        <td style=\"background-color: hsl(0, 100.00%, 96.53%)\" title=\"B-PER &rArr; B-LOC\">\n                            -0.526\n                        </td>\n                    \n                        <td style=\"background-color: hsl(0, 100.00%, 100.00%)\" title=\"B-PER &rArr; I-LOC\">\n                            0.0\n                        </td>\n                    \n                        <td style=\"background-color: hsl(0, 100.00%, 96.47%)\" title=\"B-PER &rArr; B-MISC\">\n                            -0.54\n                        </td>\n                    \n                        <td style=\"background-color: hsl(0, 100.00%, 100.00%)\" title=\"B-PER &rArr; I-MISC\">\n                            0.0\n                        </td>\n                    \n                        <td style=\"background-color: hsl(0, 100.00%, 95.44%)\" title=\"B-PER &rArr; B-ORG\">\n                            -0.777\n                        </td>\n                    \n                        <td style=\"background-color: hsl(0, 100.00%, 100.00%)\" title=\"B-PER &rArr; I-ORG\">\n                            0.0\n                        </td>\n                    \n                        <td style=\"background-color: hsl(0, 100.00%, 90.98%)\" title=\"B-PER &rArr; B-PER\">\n                            -2.058\n                        </td>\n                    \n                        <td style=\"background-color: hsl(120, 100.00%, 81.11%)\" title=\"B-PER &rArr; I-PER\">\n                            5.919\n                        </td>\n                    \n                </tr>\n            \n                <tr>\n                    <th>I-PER</th>\n                    \n                        <td style=\"background-color: hsl(0, 100.00%, 98.36%)\" title=\"I-PER &rArr; O\">\n                            -0.18\n                        </td>\n                    \n                        <td style=\"background-color: hsl(0, 100.00%, 98.14%)\" title=\"I-PER &rArr; B-LOC\">\n                            -0.215\n                        </td>\n                    \n                        <td style=\"background-color: hsl(0, 100.00%, 100.00%)\" title=\"I-PER &rArr; I-LOC\">\n                            0.0\n                        </td>\n                    \n                        <td style=\"background-color: hsl(0, 100.00%, 98.04%)\" title=\"I-PER &rArr; B-MISC\">\n                            -0.233\n                        </td>\n                    \n                        <td style=\"background-color: hsl(0, 100.00%, 100.00%)\" title=\"I-PER &rArr; I-MISC\">\n                            0.0\n                        </td>\n                    \n                        <td style=\"background-color: hsl(0, 100.00%, 100.00%)\" title=\"I-PER &rArr; B-ORG\">\n                            0.0\n                        </td>\n                    \n                        <td style=\"background-color: hsl(0, 100.00%, 100.00%)\" title=\"I-PER &rArr; I-ORG\">\n                            0.0\n                        </td>\n                    \n                        <td style=\"background-color: hsl(0, 100.00%, 92.98%)\" title=\"I-PER &rArr; B-PER\">\n                            -1.441\n                        </td>\n                    \n                        <td style=\"background-color: hsl(120, 100.00%, 86.86%)\" title=\"I-PER &rArr; I-PER\">\n                            3.526\n                        </td>\n                    \n                </tr>\n            \n        \n    </tbody>\n</table>\n    \n\n    \n\n    \n\n    \n\n\n\n"
     },
     "execution_count": 2,
     "metadata": {},
     "output_type": "execute_result"
    }
   ],
   "source": [
    "\n",
    "# def train():\n",
    "#     crf = CRF(algorithm='lbfgs', c1=10, c2=0.1, max_iterations=100, all_possible_transitions=True)\n",
    "#     pred = cross_val_predict(estimator=crf, X=X, y=Y, cv=3)\n",
    "#     report = flat_classification_report(y_pred=pred, y_true=Y)\n",
    "#     crf.fit(X, Y)\n",
    "#\n",
    "#     print(report)\n",
    "#     eli5.show_weights(crf, top=5, show=['transition_features'])\n",
    "#     eli5.show_weights(crf, top=10, feature_re='^word\\.is',\n",
    "#                       horizontal_layout=False, show=['targets'])\n",
    "#\n",
    "#     if not os.path.exists('models'):\n",
    "#         os.makedirs('models')\n",
    "#     joblib.dump(crf, 'models/crf.pkl')\n",
    "\n",
    "\n",
    "\n",
    "crf = joblib.load(filename='models/crf.pkl')\n",
    "pred = crf.predict(test_X)\n",
    "report = flat_classification_report(y_pred=pred, y_true=test_Y)\n",
    "print(report)\n",
    "f_out = 'output/crf.output.txt'\n",
    "with open(f_out, 'w') as f:\n",
    "    for s, s_pred in zip(sentences, pred):\n",
    "        for w, p in zip(s, s_pred):\n",
    "            f.write('{}\\t{}\\t{}\\n'.format(w[0], w[2], p))\n",
    "\n",
    "eli5.show_weights(crf, top=5, show=['transition_features'])\n",
    "eli5.show_weights(crf, top=10, feature_re='^word\\.is',\n",
    "                      horizontal_layout=False, show=['targets'])"
   ],
   "metadata": {
    "collapsed": false,
    "pycharm": {
     "name": "#%%\n"
    }
   }
  },
  {
   "cell_type": "code",
   "execution_count": 3,
   "outputs": [
    {
     "data": {
      "text/plain": "<IPython.core.display.HTML object>",
      "text/html": "\n    <style>\n    table.eli5-weights tr:hover {\n        filter: brightness(85%);\n    }\n</style>\n\n\n\n    \n\n    \n\n    \n\n    \n        \n\n    \n\n        \n            \n                \n                \n    \n        <p style=\"margin-bottom: 0.5em; margin-top: 0em\">\n            <b>\n    \n        y=O\n    \n</b>\n\ntop features\n        </p>\n    \n    <table class=\"eli5-weights\"\n           style=\"border-collapse: collapse; border: none; margin-top: 0em; table-layout: auto; margin-bottom: 2em;\">\n        <thead>\n        <tr style=\"border: none;\">\n            \n                <th style=\"padding: 0 1em 0 0.5em; text-align: right; border: none;\" title=\"Feature weights. Note that weights do not account for feature value scales, so if feature values have different scales, features with highest weights might not be the most important.\">\n                    Weight<sup>?</sup>\n                </th>\n            \n            <th style=\"padding: 0 0.5em 0 0.5em; text-align: left; border: none;\">Feature</th>\n            \n        </tr>\n        </thead>\n        <tbody>\n        \n        \n\n        \n        \n            <tr style=\"background-color: hsl(0, 100.00%, 84.33%); border: none;\">\n    <td style=\"padding: 0 1em 0 0.5em; text-align: right; border: none;\">\n        -3.372\n    </td>\n    <td style=\"padding: 0 0.5em 0 0.5em; text-align: left; border: none;\">\n        word.isupper()\n    </td>\n    \n</tr>\n        \n            <tr style=\"background-color: hsl(0, 100.00%, 80.00%); border: none;\">\n    <td style=\"padding: 0 1em 0 0.5em; text-align: right; border: none;\">\n        -4.779\n    </td>\n    <td style=\"padding: 0 0.5em 0 0.5em; text-align: left; border: none;\">\n        word.istitle()\n    </td>\n    \n</tr>\n        \n\n        </tbody>\n    </table>\n\n            \n        \n\n        \n\n\n\n    \n\n        \n            \n                \n                \n    \n        <p style=\"margin-bottom: 0.5em; margin-top: 0em\">\n            <b>\n    \n        y=B-LOC\n    \n</b>\n\ntop features\n        </p>\n    \n    <table class=\"eli5-weights\"\n           style=\"border-collapse: collapse; border: none; margin-top: 0em; table-layout: auto; margin-bottom: 2em;\">\n        <thead>\n        <tr style=\"border: none;\">\n            \n                <th style=\"padding: 0 1em 0 0.5em; text-align: right; border: none;\" title=\"Feature weights. Note that weights do not account for feature value scales, so if feature values have different scales, features with highest weights might not be the most important.\">\n                    Weight<sup>?</sup>\n                </th>\n            \n            <th style=\"padding: 0 0.5em 0 0.5em; text-align: left; border: none;\">Feature</th>\n            \n        </tr>\n        </thead>\n        <tbody>\n        \n            <tr style=\"background-color: hsl(120, 100.00%, 91.67%); border: none;\">\n    <td style=\"padding: 0 1em 0 0.5em; text-align: right; border: none;\">\n        +1.366\n    </td>\n    <td style=\"padding: 0 0.5em 0 0.5em; text-align: left; border: none;\">\n        word.isupper()\n    </td>\n    \n</tr>\n        \n            <tr style=\"background-color: hsl(120, 100.00%, 94.28%); border: none;\">\n    <td style=\"padding: 0 1em 0 0.5em; text-align: right; border: none;\">\n        +0.798\n    </td>\n    <td style=\"padding: 0 0.5em 0 0.5em; text-align: left; border: none;\">\n        word.istitle()\n    </td>\n    \n</tr>\n        \n        \n\n        \n        \n\n        </tbody>\n    </table>\n\n            \n        \n\n        \n\n\n\n    \n\n        \n            \n                \n                \n    \n        <p style=\"margin-bottom: 0.5em; margin-top: 0em\">\n            <b>\n    \n        y=I-LOC\n    \n</b>\n\ntop features\n        </p>\n    \n    <table class=\"eli5-weights\"\n           style=\"border-collapse: collapse; border: none; margin-top: 0em; table-layout: auto; margin-bottom: 2em;\">\n        <thead>\n        <tr style=\"border: none;\">\n            \n                <th style=\"padding: 0 1em 0 0.5em; text-align: right; border: none;\" title=\"Feature weights. Note that weights do not account for feature value scales, so if feature values have different scales, features with highest weights might not be the most important.\">\n                    Weight<sup>?</sup>\n                </th>\n            \n            <th style=\"padding: 0 0.5em 0 0.5em; text-align: left; border: none;\">Feature</th>\n            \n        </tr>\n        </thead>\n        <tbody>\n        \n            <tr style=\"background-color: hsl(120, 100.00%, 98.68%); border: none;\">\n    <td style=\"padding: 0 1em 0 0.5em; text-align: right; border: none;\">\n        +0.099\n    </td>\n    <td style=\"padding: 0 0.5em 0 0.5em; text-align: left; border: none;\">\n        word.istitle()\n    </td>\n    \n</tr>\n        \n        \n\n        \n        \n\n        </tbody>\n    </table>\n\n            \n        \n\n        \n\n\n\n    \n\n        \n            \n                \n                \n    \n        <p style=\"margin-bottom: 0.5em; margin-top: 0em\">\n            <b>\n    \n        y=B-MISC\n    \n</b>\n\ntop features\n        </p>\n    \n    <table class=\"eli5-weights\"\n           style=\"border-collapse: collapse; border: none; margin-top: 0em; table-layout: auto; margin-bottom: 2em;\">\n        <thead>\n        <tr style=\"border: none;\">\n            \n                <th style=\"padding: 0 1em 0 0.5em; text-align: right; border: none;\" title=\"Feature weights. Note that weights do not account for feature value scales, so if feature values have different scales, features with highest weights might not be the most important.\">\n                    Weight<sup>?</sup>\n                </th>\n            \n            <th style=\"padding: 0 0.5em 0 0.5em; text-align: left; border: none;\">Feature</th>\n            \n        </tr>\n        </thead>\n        <tbody>\n        \n            <tr style=\"background-color: hsl(120, 100.00%, 90.76%); border: none;\">\n    <td style=\"padding: 0 1em 0 0.5em; text-align: right; border: none;\">\n        +1.586\n    </td>\n    <td style=\"padding: 0 0.5em 0 0.5em; text-align: left; border: none;\">\n        word.isupper()\n    </td>\n    \n</tr>\n        \n            <tr style=\"background-color: hsl(120, 100.00%, 94.60%); border: none;\">\n    <td style=\"padding: 0 1em 0 0.5em; text-align: right; border: none;\">\n        +0.736\n    </td>\n    <td style=\"padding: 0 0.5em 0 0.5em; text-align: left; border: none;\">\n        word.istitle()\n    </td>\n    \n</tr>\n        \n        \n\n        \n        \n\n        </tbody>\n    </table>\n\n            \n        \n\n        \n\n\n\n    \n\n        \n            \n                \n                \n    \n        <p style=\"margin-bottom: 0.5em; margin-top: 0em\">\n            <b>\n    \n        y=I-MISC\n    \n</b>\n\ntop features\n        </p>\n    \n    <table class=\"eli5-weights\"\n           style=\"border-collapse: collapse; border: none; margin-top: 0em; table-layout: auto; margin-bottom: 2em;\">\n        <thead>\n        <tr style=\"border: none;\">\n            \n                <th style=\"padding: 0 1em 0 0.5em; text-align: right; border: none;\" title=\"Feature weights. Note that weights do not account for feature value scales, so if feature values have different scales, features with highest weights might not be the most important.\">\n                    Weight<sup>?</sup>\n                </th>\n            \n            <th style=\"padding: 0 0.5em 0 0.5em; text-align: left; border: none;\">Feature</th>\n            \n        </tr>\n        </thead>\n        <tbody>\n        \n            <tr style=\"background-color: hsl(120, 100.00%, 90.94%); border: none;\">\n    <td style=\"padding: 0 1em 0 0.5em; text-align: right; border: none;\">\n        +1.542\n    </td>\n    <td style=\"padding: 0 0.5em 0 0.5em; text-align: left; border: none;\">\n        word.isdigit()\n    </td>\n    \n</tr>\n        \n            <tr style=\"background-color: hsl(120, 100.00%, 98.43%); border: none;\">\n    <td style=\"padding: 0 1em 0 0.5em; text-align: right; border: none;\">\n        +0.126\n    </td>\n    <td style=\"padding: 0 0.5em 0 0.5em; text-align: left; border: none;\">\n        word.istitle()\n    </td>\n    \n</tr>\n        \n        \n\n        \n        \n\n        </tbody>\n    </table>\n\n            \n        \n\n        \n\n\n\n    \n\n        \n            \n                \n                \n    \n        <p style=\"margin-bottom: 0.5em; margin-top: 0em\">\n            <b>\n    \n        y=B-ORG\n    \n</b>\n\ntop features\n        </p>\n    \n    <table class=\"eli5-weights\"\n           style=\"border-collapse: collapse; border: none; margin-top: 0em; table-layout: auto; margin-bottom: 2em;\">\n        <thead>\n        <tr style=\"border: none;\">\n            \n                <th style=\"padding: 0 1em 0 0.5em; text-align: right; border: none;\" title=\"Feature weights. Note that weights do not account for feature value scales, so if feature values have different scales, features with highest weights might not be the most important.\">\n                    Weight<sup>?</sup>\n                </th>\n            \n            <th style=\"padding: 0 0.5em 0 0.5em; text-align: left; border: none;\">Feature</th>\n            \n        </tr>\n        </thead>\n        <tbody>\n        \n            <tr style=\"background-color: hsl(120, 100.00%, 88.43%); border: none;\">\n    <td style=\"padding: 0 1em 0 0.5em; text-align: right; border: none;\">\n        +2.187\n    </td>\n    <td style=\"padding: 0 0.5em 0 0.5em; text-align: left; border: none;\">\n        word.isupper()\n    </td>\n    \n</tr>\n        \n            <tr style=\"background-color: hsl(120, 100.00%, 98.45%); border: none;\">\n    <td style=\"padding: 0 1em 0 0.5em; text-align: right; border: none;\">\n        +0.124\n    </td>\n    <td style=\"padding: 0 0.5em 0 0.5em; text-align: left; border: none;\">\n        word.istitle()\n    </td>\n    \n</tr>\n        \n        \n\n        \n        \n\n        </tbody>\n    </table>\n\n            \n        \n\n        \n\n\n\n    \n\n        \n            \n                \n                \n    \n        <p style=\"margin-bottom: 0.5em; margin-top: 0em\">\n            <b>\n    \n        y=I-ORG\n    \n</b>\n\ntop features\n        </p>\n    \n    <table class=\"eli5-weights\"\n           style=\"border-collapse: collapse; border: none; margin-top: 0em; table-layout: auto; margin-bottom: 2em;\">\n        <thead>\n        <tr style=\"border: none;\">\n            \n                <th style=\"padding: 0 1em 0 0.5em; text-align: right; border: none;\" title=\"Feature weights. Note that weights do not account for feature value scales, so if feature values have different scales, features with highest weights might not be the most important.\">\n                    Weight<sup>?</sup>\n                </th>\n            \n            <th style=\"padding: 0 0.5em 0 0.5em; text-align: left; border: none;\">Feature</th>\n            \n        </tr>\n        </thead>\n        <tbody>\n        \n            <tr style=\"background-color: hsl(120, 100.00%, 96.60%); border: none;\">\n    <td style=\"padding: 0 1em 0 0.5em; text-align: right; border: none;\">\n        +0.381\n    </td>\n    <td style=\"padding: 0 0.5em 0 0.5em; text-align: left; border: none;\">\n        word.istitle()\n    </td>\n    \n</tr>\n        \n            <tr style=\"background-color: hsl(120, 100.00%, 99.55%); border: none;\">\n    <td style=\"padding: 0 1em 0 0.5em; text-align: right; border: none;\">\n        +0.021\n    </td>\n    <td style=\"padding: 0 0.5em 0 0.5em; text-align: left; border: none;\">\n        word.isupper()\n    </td>\n    \n</tr>\n        \n        \n\n        \n        \n            <tr style=\"background-color: hsl(0, 100.00%, 95.02%); border: none;\">\n    <td style=\"padding: 0 1em 0 0.5em; text-align: right; border: none;\">\n        -0.655\n    </td>\n    <td style=\"padding: 0 0.5em 0 0.5em; text-align: left; border: none;\">\n        word.isdigit()\n    </td>\n    \n</tr>\n        \n\n        </tbody>\n    </table>\n\n            \n        \n\n        \n\n\n\n    \n\n        \n            \n                \n                \n    \n        <p style=\"margin-bottom: 0.5em; margin-top: 0em\">\n            <b>\n    \n        y=B-PER\n    \n</b>\n\ntop features\n        </p>\n    \n    <table class=\"eli5-weights\"\n           style=\"border-collapse: collapse; border: none; margin-top: 0em; table-layout: auto; margin-bottom: 2em;\">\n        <thead>\n        <tr style=\"border: none;\">\n            \n                <th style=\"padding: 0 1em 0 0.5em; text-align: right; border: none;\" title=\"Feature weights. Note that weights do not account for feature value scales, so if feature values have different scales, features with highest weights might not be the most important.\">\n                    Weight<sup>?</sup>\n                </th>\n            \n            <th style=\"padding: 0 0.5em 0 0.5em; text-align: left; border: none;\">Feature</th>\n            \n        </tr>\n        </thead>\n        <tbody>\n        \n            <tr style=\"background-color: hsl(120, 100.00%, 91.93%); border: none;\">\n    <td style=\"padding: 0 1em 0 0.5em; text-align: right; border: none;\">\n        +1.307\n    </td>\n    <td style=\"padding: 0 0.5em 0 0.5em; text-align: left; border: none;\">\n        word.istitle()\n    </td>\n    \n</tr>\n        \n            <tr style=\"background-color: hsl(120, 100.00%, 99.12%); border: none;\">\n    <td style=\"padding: 0 1em 0 0.5em; text-align: right; border: none;\">\n        +0.056\n    </td>\n    <td style=\"padding: 0 0.5em 0 0.5em; text-align: left; border: none;\">\n        word.isupper()\n    </td>\n    \n</tr>\n        \n        \n\n        \n        \n\n        </tbody>\n    </table>\n\n            \n        \n\n        \n\n\n\n    \n\n        \n            \n                \n                \n    \n        <p style=\"margin-bottom: 0.5em; margin-top: 0em\">\n            <b>\n    \n        y=I-PER\n    \n</b>\n\ntop features\n        </p>\n    \n    <table class=\"eli5-weights\"\n           style=\"border-collapse: collapse; border: none; margin-top: 0em; table-layout: auto; margin-bottom: 2em;\">\n        <thead>\n        <tr style=\"border: none;\">\n            \n                <th style=\"padding: 0 1em 0 0.5em; text-align: right; border: none;\" title=\"Feature weights. Note that weights do not account for feature value scales, so if feature values have different scales, features with highest weights might not be the most important.\">\n                    Weight<sup>?</sup>\n                </th>\n            \n            <th style=\"padding: 0 0.5em 0 0.5em; text-align: left; border: none;\">Feature</th>\n            \n        </tr>\n        </thead>\n        <tbody>\n        \n            <tr style=\"background-color: hsl(120, 100.00%, 96.16%); border: none;\">\n    <td style=\"padding: 0 1em 0 0.5em; text-align: right; border: none;\">\n        +0.452\n    </td>\n    <td style=\"padding: 0 0.5em 0 0.5em; text-align: left; border: none;\">\n        word.istitle()\n    </td>\n    \n</tr>\n        \n        \n\n        \n        \n            <tr style=\"background-color: hsl(0, 100.00%, 83.63%); border: none;\">\n    <td style=\"padding: 0 1em 0 0.5em; text-align: right; border: none;\">\n        -3.589\n    </td>\n    <td style=\"padding: 0 0.5em 0 0.5em; text-align: left; border: none;\">\n        word.isupper()\n    </td>\n    \n</tr>\n        \n\n        </tbody>\n    </table>\n\n            \n        \n\n        \n\n\n\n    \n\n    \n\n    \n\n    \n\n\n\n"
     },
     "execution_count": 3,
     "metadata": {},
     "output_type": "execute_result"
    }
   ],
   "source": [
    "eli5.show_weights(crf, top=10, feature_re='^word\\.is',\n",
    "                      horizontal_layout=False, show=['targets'])"
   ],
   "metadata": {
    "collapsed": false,
    "pycharm": {
     "name": "#%%\n"
    }
   }
  },
  {
   "cell_type": "code",
   "execution_count": null,
   "outputs": [],
   "source": [],
   "metadata": {
    "collapsed": false,
    "pycharm": {
     "name": "#%%\n"
    }
   }
  }
 ],
 "metadata": {
  "kernelspec": {
   "display_name": "Python 3",
   "language": "python",
   "name": "python3"
  },
  "language_info": {
   "codemirror_mode": {
    "name": "ipython",
    "version": 2
   },
   "file_extension": ".py",
   "mimetype": "text/x-python",
   "name": "python",
   "nbconvert_exporter": "python",
   "pygments_lexer": "ipython2",
   "version": "2.7.6"
  }
 },
 "nbformat": 4,
 "nbformat_minor": 0
}